{
  "nbformat": 4,
  "nbformat_minor": 0,
  "metadata": {
    "colab": {
      "name": "model.ipynb",
      "provenance": [],
      "collapsed_sections": []
    },
    "kernelspec": {
      "name": "python3",
      "display_name": "Python 3"
    },
    "language_info": {
      "name": "python"
    }
  },
  "cells": [
    {
      "cell_type": "markdown",
      "source": [
        "# Model\n",
        "\n",
        "The data was obtained from https://www.kaggle.com/competitions/house-prices-advanced-regression-techniques/data.\n",
        "\n",
        "The following code was adapted from https://www.kaggle.com/code/juliencs/a-study-on-regression-applied-to-the-ames-dataset/notebook. "
      ],
      "metadata": {
        "id": "LWsMZ-DFjBme"
      }
    },
    {
      "cell_type": "code",
      "execution_count": 44,
      "metadata": {
        "colab": {
          "base_uri": "https://localhost:8080/"
        },
        "id": "-kNXswRTi_r9",
        "outputId": "cb6a20d3-b782-4ff3-c621-0e0f2c464d48"
      },
      "outputs": [
        {
          "output_type": "stream",
          "name": "stdout",
          "text": [
            "Drive already mounted at /content/drive; to attempt to forcibly remount, call drive.mount(\"/content/drive\", force_remount=True).\n"
          ]
        }
      ],
      "source": [
        "# Imports\n",
        "import pandas as pd\n",
        "import numpy as np\n",
        "from sklearn.model_selection import cross_val_score, train_test_split\n",
        "from sklearn.preprocessing import StandardScaler\n",
        "from sklearn.linear_model import ElasticNetCV\n",
        "from sklearn.metrics import mean_squared_error, make_scorer\n",
        "from scipy.stats import skew\n",
        "from IPython.display import display\n",
        "import matplotlib.pyplot as plt\n",
        "import seaborn as sns\n",
        "from joblib import dump, load\n",
        "\n",
        "from google.colab import drive\n",
        "drive.mount('/content/drive')\n",
        "\n",
        "# Definitions\n",
        "pd.set_option('display.float_format', lambda x: '%.3f' % x)\n",
        "%matplotlib inline\n",
        "#njobs = 4"
      ]
    },
    {
      "cell_type": "code",
      "source": [
        "# Get data\n",
        "train = pd.read_csv(\"/content/drive/MyDrive/MSCI 436 - Project/train.csv\") # REPLACE AS NECESSARY\n",
        "print(\"train : \" + str(train.shape))"
      ],
      "metadata": {
        "id": "Kgj43eiFjbU4",
        "colab": {
          "base_uri": "https://localhost:8080/"
        },
        "outputId": "d7c97e99-7be9-4008-b52c-f4ca9ec20a9d"
      },
      "execution_count": 45,
      "outputs": [
        {
          "output_type": "stream",
          "name": "stdout",
          "text": [
            "train : (1460, 81)\n"
          ]
        }
      ]
    },
    {
      "cell_type": "code",
      "source": [
        "# Check for duplicates\n",
        "idsUnique = len(set(train.Id))\n",
        "idsTotal = train.shape[0]\n",
        "idsDupli = idsTotal - idsUnique\n",
        "print(\"There are \" + str(idsDupli) + \" duplicate IDs for \" + str(idsTotal) + \" total entries\")\n",
        "\n",
        "# Drop Id column\n",
        "train.drop(\"Id\", axis = 1, inplace = True)\n",
        "\n",
        "# The original notebook removes any houses with more than 4000 square feet from the dataset to mitigate the effects of outliers.\n",
        "train = train[train.GrLivArea < 4000]"
      ],
      "metadata": {
        "colab": {
          "base_uri": "https://localhost:8080/"
        },
        "id": "DWEytoigj8Fb",
        "outputId": "06f53573-7074-48e5-fafe-09b30ef1b1c5"
      },
      "execution_count": 46,
      "outputs": [
        {
          "output_type": "stream",
          "name": "stdout",
          "text": [
            "There are 0 duplicate IDs for 1460 total entries\n"
          ]
        }
      ]
    },
    {
      "cell_type": "code",
      "source": [
        "# The original notebook performs a log transformation to targets. This will be maintained for consistency.\n",
        "train.SalePrice = np.log1p(train.SalePrice)\n",
        "y = train.SalePrice"
      ],
      "metadata": {
        "id": "wNh7yIbHj_RM"
      },
      "execution_count": 47,
      "outputs": []
    },
    {
      "cell_type": "markdown",
      "source": [
        "## Data Preprocessing and Feature Engineering\n",
        "\n",
        "The original notebook creates a variety of new features in 3 ways: \n",
        "\n",
        " 1. Simplifications of existing features\n",
        " 2. Combinations of existing features\n",
        " 3. Polynomials on the top 10 existing features"
      ],
      "metadata": {
        "id": "ZbmktbVpk9nO"
      }
    },
    {
      "cell_type": "code",
      "source": [
        "# Handle missing values for features where median/mean or most common value doesn't make sense\n",
        "\n",
        "# Alley : data description says NA means \"no alley access\"\n",
        "train.loc[:, \"Alley\"] = train.loc[:, \"Alley\"].fillna(\"None\")\n",
        "# BedroomAbvGr : NA most likely means 0\n",
        "train.loc[:, \"BedroomAbvGr\"] = train.loc[:, \"BedroomAbvGr\"].fillna(0)\n",
        "# BsmtQual etc : data description says NA for basement features is \"no basement\"\n",
        "train.loc[:, \"BsmtQual\"] = train.loc[:, \"BsmtQual\"].fillna(\"No\")\n",
        "train.loc[:, \"BsmtCond\"] = train.loc[:, \"BsmtCond\"].fillna(\"No\")\n",
        "train.loc[:, \"BsmtExposure\"] = train.loc[:, \"BsmtExposure\"].fillna(\"No\")\n",
        "train.loc[:, \"BsmtFinType1\"] = train.loc[:, \"BsmtFinType1\"].fillna(\"No\")\n",
        "train.loc[:, \"BsmtFinType2\"] = train.loc[:, \"BsmtFinType2\"].fillna(\"No\")\n",
        "train.loc[:, \"BsmtFullBath\"] = train.loc[:, \"BsmtFullBath\"].fillna(0)\n",
        "train.loc[:, \"BsmtHalfBath\"] = train.loc[:, \"BsmtHalfBath\"].fillna(0)\n",
        "train.loc[:, \"BsmtUnfSF\"] = train.loc[:, \"BsmtUnfSF\"].fillna(0)\n",
        "# CentralAir : NA most likely means No\n",
        "train.loc[:, \"CentralAir\"] = train.loc[:, \"CentralAir\"].fillna(\"N\")\n",
        "# Condition : NA most likely means Normal\n",
        "train.loc[:, \"Condition1\"] = train.loc[:, \"Condition1\"].fillna(\"Norm\")\n",
        "train.loc[:, \"Condition2\"] = train.loc[:, \"Condition2\"].fillna(\"Norm\")\n",
        "# EnclosedPorch : NA most likely means no enclosed porch\n",
        "train.loc[:, \"EnclosedPorch\"] = train.loc[:, \"EnclosedPorch\"].fillna(0)\n",
        "# External stuff : NA most likely means average\n",
        "train.loc[:, \"ExterCond\"] = train.loc[:, \"ExterCond\"].fillna(\"TA\")\n",
        "train.loc[:, \"ExterQual\"] = train.loc[:, \"ExterQual\"].fillna(\"TA\")\n",
        "# Fence : data description says NA means \"no fence\"\n",
        "train.loc[:, \"Fence\"] = train.loc[:, \"Fence\"].fillna(\"No\")\n",
        "# FireplaceQu : data description says NA means \"no fireplace\"\n",
        "train.loc[:, \"FireplaceQu\"] = train.loc[:, \"FireplaceQu\"].fillna(\"No\")\n",
        "train.loc[:, \"Fireplaces\"] = train.loc[:, \"Fireplaces\"].fillna(0)\n",
        "# Functional : data description says NA means typical\n",
        "train.loc[:, \"Functional\"] = train.loc[:, \"Functional\"].fillna(\"Typ\")\n",
        "# GarageType etc : data description says NA for garage features is \"no garage\"\n",
        "train.loc[:, \"GarageType\"] = train.loc[:, \"GarageType\"].fillna(\"No\")\n",
        "train.loc[:, \"GarageFinish\"] = train.loc[:, \"GarageFinish\"].fillna(\"No\")\n",
        "train.loc[:, \"GarageQual\"] = train.loc[:, \"GarageQual\"].fillna(\"No\")\n",
        "train.loc[:, \"GarageCond\"] = train.loc[:, \"GarageCond\"].fillna(\"No\")\n",
        "train.loc[:, \"GarageArea\"] = train.loc[:, \"GarageArea\"].fillna(0)\n",
        "train.loc[:, \"GarageCars\"] = train.loc[:, \"GarageCars\"].fillna(0)\n",
        "# HalfBath : NA most likely means no half baths above grade\n",
        "train.loc[:, \"HalfBath\"] = train.loc[:, \"HalfBath\"].fillna(0)\n",
        "# HeatingQC : NA most likely means typical\n",
        "train.loc[:, \"HeatingQC\"] = train.loc[:, \"HeatingQC\"].fillna(\"TA\")\n",
        "# KitchenAbvGr : NA most likely means 0\n",
        "train.loc[:, \"KitchenAbvGr\"] = train.loc[:, \"KitchenAbvGr\"].fillna(0)\n",
        "# KitchenQual : NA most likely means typical\n",
        "train.loc[:, \"KitchenQual\"] = train.loc[:, \"KitchenQual\"].fillna(\"TA\")\n",
        "# LotFrontage : NA most likely means no lot frontage\n",
        "train.loc[:, \"LotFrontage\"] = train.loc[:, \"LotFrontage\"].fillna(0)\n",
        "# LotShape : NA most likely means regular\n",
        "train.loc[:, \"LotShape\"] = train.loc[:, \"LotShape\"].fillna(\"Reg\")\n",
        "# MasVnrType : NA most likely means no veneer\n",
        "train.loc[:, \"MasVnrType\"] = train.loc[:, \"MasVnrType\"].fillna(\"None\")\n",
        "train.loc[:, \"MasVnrArea\"] = train.loc[:, \"MasVnrArea\"].fillna(0)\n",
        "# MiscFeature : data description says NA means \"no misc feature\"\n",
        "train.loc[:, \"MiscFeature\"] = train.loc[:, \"MiscFeature\"].fillna(\"No\")\n",
        "train.loc[:, \"MiscVal\"] = train.loc[:, \"MiscVal\"].fillna(0)\n",
        "# OpenPorchSF : NA most likely means no open porch\n",
        "train.loc[:, \"OpenPorchSF\"] = train.loc[:, \"OpenPorchSF\"].fillna(0)\n",
        "# PavedDrive : NA most likely means not paved\n",
        "train.loc[:, \"PavedDrive\"] = train.loc[:, \"PavedDrive\"].fillna(\"N\")\n",
        "# PoolQC : data description says NA means \"no pool\"\n",
        "train.loc[:, \"PoolQC\"] = train.loc[:, \"PoolQC\"].fillna(\"No\")\n",
        "train.loc[:, \"PoolArea\"] = train.loc[:, \"PoolArea\"].fillna(0)\n",
        "# SaleCondition : NA most likely means normal sale\n",
        "train.loc[:, \"SaleCondition\"] = train.loc[:, \"SaleCondition\"].fillna(\"Normal\")\n",
        "# ScreenPorch : NA most likely means no screen porch\n",
        "train.loc[:, \"ScreenPorch\"] = train.loc[:, \"ScreenPorch\"].fillna(0)\n",
        "# TotRmsAbvGrd : NA most likely means 0\n",
        "train.loc[:, \"TotRmsAbvGrd\"] = train.loc[:, \"TotRmsAbvGrd\"].fillna(0)\n",
        "# Utilities : NA most likely means all public utilities\n",
        "train.loc[:, \"Utilities\"] = train.loc[:, \"Utilities\"].fillna(\"AllPub\")\n",
        "# WoodDeckSF : NA most likely means no wood deck\n",
        "train.loc[:, \"WoodDeckSF\"] = train.loc[:, \"WoodDeckSF\"].fillna(0)"
      ],
      "metadata": {
        "id": "axR6pb0Qkbkl"
      },
      "execution_count": 48,
      "outputs": []
    },
    {
      "cell_type": "code",
      "source": [
        "# Some numerical features are actually really categories\n",
        "train = train.replace({\"MSSubClass\" : {20 : \"SC20\", 30 : \"SC30\", 40 : \"SC40\", 45 : \"SC45\", \n",
        "                                       50 : \"SC50\", 60 : \"SC60\", 70 : \"SC70\", 75 : \"SC75\", \n",
        "                                       80 : \"SC80\", 85 : \"SC85\", 90 : \"SC90\", 120 : \"SC120\", \n",
        "                                       150 : \"SC150\", 160 : \"SC160\", 180 : \"SC180\", 190 : \"SC190\"},\n",
        "                       \"MoSold\" : {1 : \"Jan\", 2 : \"Feb\", 3 : \"Mar\", 4 : \"Apr\", 5 : \"May\", 6 : \"Jun\",\n",
        "                                   7 : \"Jul\", 8 : \"Aug\", 9 : \"Sep\", 10 : \"Oct\", 11 : \"Nov\", 12 : \"Dec\"}\n",
        "                      })"
      ],
      "metadata": {
        "id": "ej2FUu63kri2"
      },
      "execution_count": 49,
      "outputs": []
    },
    {
      "cell_type": "code",
      "source": [
        "# Encode some categorical features as ordered numbers when there is information in the order\n",
        "train = train.replace({\"Alley\" : {\"Grvl\" : 1, \"Pave\" : 2},\n",
        "                       \"BsmtCond\" : {\"No\" : 0, \"Po\" : 1, \"Fa\" : 2, \"TA\" : 3, \"Gd\" : 4, \"Ex\" : 5},\n",
        "                       \"BsmtExposure\" : {\"No\" : 0, \"Mn\" : 1, \"Av\": 2, \"Gd\" : 3},\n",
        "                       \"BsmtFinType1\" : {\"No\" : 0, \"Unf\" : 1, \"LwQ\": 2, \"Rec\" : 3, \"BLQ\" : 4, \n",
        "                                         \"ALQ\" : 5, \"GLQ\" : 6},\n",
        "                       \"BsmtFinType2\" : {\"No\" : 0, \"Unf\" : 1, \"LwQ\": 2, \"Rec\" : 3, \"BLQ\" : 4, \n",
        "                                         \"ALQ\" : 5, \"GLQ\" : 6},\n",
        "                       \"BsmtQual\" : {\"No\" : 0, \"Po\" : 1, \"Fa\" : 2, \"TA\": 3, \"Gd\" : 4, \"Ex\" : 5},\n",
        "                       \"ExterCond\" : {\"Po\" : 1, \"Fa\" : 2, \"TA\": 3, \"Gd\": 4, \"Ex\" : 5},\n",
        "                       \"ExterQual\" : {\"Po\" : 1, \"Fa\" : 2, \"TA\": 3, \"Gd\": 4, \"Ex\" : 5},\n",
        "                       \"FireplaceQu\" : {\"No\" : 0, \"Po\" : 1, \"Fa\" : 2, \"TA\" : 3, \"Gd\" : 4, \"Ex\" : 5},\n",
        "                       \"Functional\" : {\"Sal\" : 1, \"Sev\" : 2, \"Maj2\" : 3, \"Maj1\" : 4, \"Mod\": 5, \n",
        "                                       \"Min2\" : 6, \"Min1\" : 7, \"Typ\" : 8},\n",
        "                       \"GarageCond\" : {\"No\" : 0, \"Po\" : 1, \"Fa\" : 2, \"TA\" : 3, \"Gd\" : 4, \"Ex\" : 5},\n",
        "                       \"GarageQual\" : {\"No\" : 0, \"Po\" : 1, \"Fa\" : 2, \"TA\" : 3, \"Gd\" : 4, \"Ex\" : 5},\n",
        "                       \"HeatingQC\" : {\"Po\" : 1, \"Fa\" : 2, \"TA\" : 3, \"Gd\" : 4, \"Ex\" : 5},\n",
        "                       \"KitchenQual\" : {\"Po\" : 1, \"Fa\" : 2, \"TA\" : 3, \"Gd\" : 4, \"Ex\" : 5},\n",
        "                       \"LandSlope\" : {\"Sev\" : 1, \"Mod\" : 2, \"Gtl\" : 3},\n",
        "                       \"LotShape\" : {\"IR3\" : 1, \"IR2\" : 2, \"IR1\" : 3, \"Reg\" : 4},\n",
        "                       \"PavedDrive\" : {\"N\" : 0, \"P\" : 1, \"Y\" : 2},\n",
        "                       \"PoolQC\" : {\"No\" : 0, \"Fa\" : 1, \"TA\" : 2, \"Gd\" : 3, \"Ex\" : 4},\n",
        "                       \"Street\" : {\"Grvl\" : 1, \"Pave\" : 2},\n",
        "                       \"Utilities\" : {\"ELO\" : 1, \"NoSeWa\" : 2, \"NoSewr\" : 3, \"AllPub\" : 4}}\n",
        "                     )"
      ],
      "metadata": {
        "id": "rLsHxalmkua1"
      },
      "execution_count": 50,
      "outputs": []
    },
    {
      "cell_type": "code",
      "source": [
        "# Create new features\n",
        "# 1* Simplifications of existing features\n",
        "train[\"SimplOverallQual\"] = train.OverallQual.replace({1 : 1, 2 : 1, 3 : 1, # bad\n",
        "                                                       4 : 2, 5 : 2, 6 : 2, # average\n",
        "                                                       7 : 3, 8 : 3, 9 : 3, 10 : 3 # good\n",
        "                                                      })\n",
        "train[\"SimplOverallCond\"] = train.OverallCond.replace({1 : 1, 2 : 1, 3 : 1, # bad\n",
        "                                                       4 : 2, 5 : 2, 6 : 2, # average\n",
        "                                                       7 : 3, 8 : 3, 9 : 3, 10 : 3 # good\n",
        "                                                      })\n",
        "train[\"SimplPoolQC\"] = train.PoolQC.replace({1 : 1, 2 : 1, # average\n",
        "                                             3 : 2, 4 : 2 # good\n",
        "                                            })\n",
        "train[\"SimplGarageCond\"] = train.GarageCond.replace({1 : 1, # bad\n",
        "                                                     2 : 1, 3 : 1, # average\n",
        "                                                     4 : 2, 5 : 2 # good\n",
        "                                                    })\n",
        "train[\"SimplGarageQual\"] = train.GarageQual.replace({1 : 1, # bad\n",
        "                                                     2 : 1, 3 : 1, # average\n",
        "                                                     4 : 2, 5 : 2 # good\n",
        "                                                    })\n",
        "train[\"SimplFireplaceQu\"] = train.FireplaceQu.replace({1 : 1, # bad\n",
        "                                                       2 : 1, 3 : 1, # average\n",
        "                                                       4 : 2, 5 : 2 # good\n",
        "                                                      })\n",
        "train[\"SimplFireplaceQu\"] = train.FireplaceQu.replace({1 : 1, # bad\n",
        "                                                       2 : 1, 3 : 1, # average\n",
        "                                                       4 : 2, 5 : 2 # good\n",
        "                                                      })\n",
        "train[\"SimplFunctional\"] = train.Functional.replace({1 : 1, 2 : 1, # bad\n",
        "                                                     3 : 2, 4 : 2, # major\n",
        "                                                     5 : 3, 6 : 3, 7 : 3, # minor\n",
        "                                                     8 : 4 # typical\n",
        "                                                    })\n",
        "train[\"SimplKitchenQual\"] = train.KitchenQual.replace({1 : 1, # bad\n",
        "                                                       2 : 1, 3 : 1, # average\n",
        "                                                       4 : 2, 5 : 2 # good\n",
        "                                                      })\n",
        "train[\"SimplHeatingQC\"] = train.HeatingQC.replace({1 : 1, # bad\n",
        "                                                   2 : 1, 3 : 1, # average\n",
        "                                                   4 : 2, 5 : 2 # good\n",
        "                                                  })\n",
        "train[\"SimplBsmtFinType1\"] = train.BsmtFinType1.replace({1 : 1, # unfinished\n",
        "                                                         2 : 1, 3 : 1, # rec room\n",
        "                                                         4 : 2, 5 : 2, 6 : 2 # living quarters\n",
        "                                                        })\n",
        "train[\"SimplBsmtFinType2\"] = train.BsmtFinType2.replace({1 : 1, # unfinished\n",
        "                                                         2 : 1, 3 : 1, # rec room\n",
        "                                                         4 : 2, 5 : 2, 6 : 2 # living quarters\n",
        "                                                        })\n",
        "train[\"SimplBsmtCond\"] = train.BsmtCond.replace({1 : 1, # bad\n",
        "                                                 2 : 1, 3 : 1, # average\n",
        "                                                 4 : 2, 5 : 2 # good\n",
        "                                                })\n",
        "train[\"SimplBsmtQual\"] = train.BsmtQual.replace({1 : 1, # bad\n",
        "                                                 2 : 1, 3 : 1, # average\n",
        "                                                 4 : 2, 5 : 2 # good\n",
        "                                                })\n",
        "train[\"SimplExterCond\"] = train.ExterCond.replace({1 : 1, # bad\n",
        "                                                   2 : 1, 3 : 1, # average\n",
        "                                                   4 : 2, 5 : 2 # good\n",
        "                                                  })\n",
        "train[\"SimplExterQual\"] = train.ExterQual.replace({1 : 1, # bad\n",
        "                                                   2 : 1, 3 : 1, # average\n",
        "                                                   4 : 2, 5 : 2 # good\n",
        "                                                  })\n",
        "\n",
        "# 2* Combinations of existing features\n",
        "# Overall quality of the house\n",
        "train[\"OverallGrade\"] = train[\"OverallQual\"] * train[\"OverallCond\"]\n",
        "# Overall quality of the garage\n",
        "train[\"GarageGrade\"] = train[\"GarageQual\"] * train[\"GarageCond\"]\n",
        "# Overall quality of the exterior\n",
        "train[\"ExterGrade\"] = train[\"ExterQual\"] * train[\"ExterCond\"]\n",
        "# Overall kitchen score\n",
        "train[\"KitchenScore\"] = train[\"KitchenAbvGr\"] * train[\"KitchenQual\"]\n",
        "# Overall fireplace score\n",
        "train[\"FireplaceScore\"] = train[\"Fireplaces\"] * train[\"FireplaceQu\"]\n",
        "# Overall garage score\n",
        "train[\"GarageScore\"] = train[\"GarageArea\"] * train[\"GarageQual\"]\n",
        "# Overall pool score\n",
        "train[\"PoolScore\"] = train[\"PoolArea\"] * train[\"PoolQC\"]\n",
        "# Simplified overall quality of the house\n",
        "train[\"SimplOverallGrade\"] = train[\"SimplOverallQual\"] * train[\"SimplOverallCond\"]\n",
        "# Simplified overall quality of the exterior\n",
        "train[\"SimplExterGrade\"] = train[\"SimplExterQual\"] * train[\"SimplExterCond\"]\n",
        "# Simplified overall pool score\n",
        "train[\"SimplPoolScore\"] = train[\"PoolArea\"] * train[\"SimplPoolQC\"]\n",
        "# Simplified overall garage score\n",
        "train[\"SimplGarageScore\"] = train[\"GarageArea\"] * train[\"SimplGarageQual\"]\n",
        "# Simplified overall fireplace score\n",
        "train[\"SimplFireplaceScore\"] = train[\"Fireplaces\"] * train[\"SimplFireplaceQu\"]\n",
        "# Simplified overall kitchen score\n",
        "train[\"SimplKitchenScore\"] = train[\"KitchenAbvGr\"] * train[\"SimplKitchenQual\"]\n",
        "# Total number of bathrooms\n",
        "train[\"TotalBath\"] = train[\"BsmtFullBath\"] + (0.5 * train[\"BsmtHalfBath\"]) + \\\n",
        "train[\"FullBath\"] + (0.5 * train[\"HalfBath\"])\n",
        "# Total SF for house (incl. basement)\n",
        "train[\"AllSF\"] = train[\"GrLivArea\"] + train[\"TotalBsmtSF\"]\n",
        "# Total SF for 1st + 2nd floors\n",
        "train[\"AllFlrsSF\"] = train[\"1stFlrSF\"] + train[\"2ndFlrSF\"]\n",
        "# Total SF for porch\n",
        "train[\"AllPorchSF\"] = train[\"OpenPorchSF\"] + train[\"EnclosedPorch\"] + \\\n",
        "train[\"3SsnPorch\"] + train[\"ScreenPorch\"]\n",
        "# Has masonry veneer or not\n",
        "train[\"HasMasVnr\"] = train.MasVnrType.replace({\"BrkCmn\" : 1, \"BrkFace\" : 1, \"CBlock\" : 1, \n",
        "                                               \"Stone\" : 1, \"None\" : 0})\n",
        "# House completed before sale or not\n",
        "train[\"BoughtOffPlan\"] = train.SaleCondition.replace({\"Abnorml\" : 0, \"Alloca\" : 0, \"AdjLand\" : 0, \n",
        "                                                      \"Family\" : 0, \"Normal\" : 0, \"Partial\" : 1})"
      ],
      "metadata": {
        "id": "5YYCZB8fn6ns"
      },
      "execution_count": 51,
      "outputs": []
    },
    {
      "cell_type": "code",
      "source": [
        "# Find most important features relative to target\n",
        "print(\"Find most important features relative to target\")\n",
        "corr = train.corr()\n",
        "corr.sort_values([\"SalePrice\"], ascending = False, inplace = True)\n",
        "# top 10 most important features\n",
        "print(corr.SalePrice.head(11))"
      ],
      "metadata": {
        "colab": {
          "base_uri": "https://localhost:8080/"
        },
        "id": "WWkzizMJcKPL",
        "outputId": "29991280-2b48-4ae5-9c53-89367b2b2087"
      },
      "execution_count": 52,
      "outputs": [
        {
          "output_type": "stream",
          "name": "stdout",
          "text": [
            "Find most important features relative to target\n",
            "SalePrice          1.000\n",
            "OverallQual        0.819\n",
            "AllSF              0.817\n",
            "AllFlrsSF          0.729\n",
            "GrLivArea          0.719\n",
            "SimplOverallQual   0.708\n",
            "ExterQual          0.681\n",
            "GarageCars         0.680\n",
            "TotalBath          0.673\n",
            "KitchenQual        0.667\n",
            "GarageScore        0.657\n",
            "Name: SalePrice, dtype: float64\n"
          ]
        }
      ]
    },
    {
      "cell_type": "code",
      "source": [
        "# Create new features\n",
        "# 3* Polynomials on the top 10 existing features\n",
        "train[\"OverallQual-s2\"] = train[\"OverallQual\"] ** 2\n",
        "train[\"OverallQual-s3\"] = train[\"OverallQual\"] ** 3\n",
        "train[\"OverallQual-Sq\"] = np.sqrt(train[\"OverallQual\"])\n",
        "train[\"AllSF-2\"] = train[\"AllSF\"] ** 2\n",
        "train[\"AllSF-3\"] = train[\"AllSF\"] ** 3\n",
        "train[\"AllSF-Sq\"] = np.sqrt(train[\"AllSF\"])\n",
        "train[\"AllFlrsSF-2\"] = train[\"AllFlrsSF\"] ** 2\n",
        "train[\"AllFlrsSF-3\"] = train[\"AllFlrsSF\"] ** 3\n",
        "train[\"AllFlrsSF-Sq\"] = np.sqrt(train[\"AllFlrsSF\"])\n",
        "train[\"GrLivArea-2\"] = train[\"GrLivArea\"] ** 2\n",
        "train[\"GrLivArea-3\"] = train[\"GrLivArea\"] ** 3\n",
        "train[\"GrLivArea-Sq\"] = np.sqrt(train[\"GrLivArea\"])\n",
        "train[\"SimplOverallQual-s2\"] = train[\"SimplOverallQual\"] ** 2\n",
        "train[\"SimplOverallQual-s3\"] = train[\"SimplOverallQual\"] ** 3\n",
        "train[\"SimplOverallQual-Sq\"] = np.sqrt(train[\"SimplOverallQual\"])\n",
        "train[\"ExterQual-2\"] = train[\"ExterQual\"] ** 2\n",
        "train[\"ExterQual-3\"] = train[\"ExterQual\"] ** 3\n",
        "train[\"ExterQual-Sq\"] = np.sqrt(train[\"ExterQual\"])\n",
        "train[\"GarageCars-2\"] = train[\"GarageCars\"] ** 2\n",
        "train[\"GarageCars-3\"] = train[\"GarageCars\"] ** 3\n",
        "train[\"GarageCars-Sq\"] = np.sqrt(train[\"GarageCars\"])\n",
        "train[\"TotalBath-2\"] = train[\"TotalBath\"] ** 2\n",
        "train[\"TotalBath-3\"] = train[\"TotalBath\"] ** 3\n",
        "train[\"TotalBath-Sq\"] = np.sqrt(train[\"TotalBath\"])\n",
        "train[\"KitchenQual-2\"] = train[\"KitchenQual\"] ** 2\n",
        "train[\"KitchenQual-3\"] = train[\"KitchenQual\"] ** 3\n",
        "train[\"KitchenQual-Sq\"] = np.sqrt(train[\"KitchenQual\"])\n",
        "train[\"GarageScore-2\"] = train[\"GarageScore\"] ** 2\n",
        "train[\"GarageScore-3\"] = train[\"GarageScore\"] ** 3\n",
        "train[\"GarageScore-Sq\"] = np.sqrt(train[\"GarageScore\"])"
      ],
      "metadata": {
        "id": "tnD-3rwZoNXG"
      },
      "execution_count": 53,
      "outputs": []
    },
    {
      "cell_type": "code",
      "source": [
        "# Differentiate numerical features (minus the target) and categorical features\n",
        "categorical_features = train.select_dtypes(include = [\"object\"]).columns\n",
        "numerical_features = train.select_dtypes(exclude = [\"object\"]).columns\n",
        "numerical_features = numerical_features.drop(\"SalePrice\")\n",
        "print(\"Numerical features : \" + str(len(numerical_features)))\n",
        "print(\"Categorical features : \" + str(len(categorical_features)))\n",
        "train_num = train[numerical_features]\n",
        "train_cat = train[categorical_features]"
      ],
      "metadata": {
        "colab": {
          "base_uri": "https://localhost:8080/"
        },
        "id": "ZPZqfnVFoXE3",
        "outputId": "99e4e01c-183d-4f7d-ba90-bdfc13271878"
      },
      "execution_count": 54,
      "outputs": [
        {
          "output_type": "stream",
          "name": "stdout",
          "text": [
            "Numerical features : 117\n",
            "Categorical features : 26\n"
          ]
        }
      ]
    },
    {
      "cell_type": "code",
      "source": [
        "# Handle remaining missing values for numerical features by using median as replacement\n",
        "print(\"NAs for numerical features in train : \" + str(train_num.isnull().values.sum()))\n",
        "train_num = train_num.fillna(train_num.median())\n",
        "print(\"Remaining NAs for numerical features in train : \" + str(train_num.isnull().values.sum()))"
      ],
      "metadata": {
        "colab": {
          "base_uri": "https://localhost:8080/"
        },
        "id": "BbwxTgJoocGH",
        "outputId": "82f6f40f-eb9c-4c36-cddd-774e81f88356"
      },
      "execution_count": 55,
      "outputs": [
        {
          "output_type": "stream",
          "name": "stdout",
          "text": [
            "NAs for numerical features in train : 81\n",
            "Remaining NAs for numerical features in train : 0\n"
          ]
        }
      ]
    },
    {
      "cell_type": "code",
      "source": [
        "# Log transform of the skewed numerical features to lessen impact of outliers\n",
        "# Inspired by Alexandru Papiu's script : https://www.kaggle.com/apapiu/house-prices-advanced-regression-techniques/regularized-linear-models\n",
        "# As a general rule of thumb, a skewness with an absolute value > 0.5 is considered at least moderately skewed\n",
        "skewness = train_num.apply(lambda x: skew(x))\n",
        "skewness = skewness[abs(skewness) > 0.5]\n",
        "print(str(skewness.shape[0]) + \" skewed numerical features to log transform\")\n",
        "skewed_features = skewness.index\n",
        "train_num[skewed_features] = np.log1p(train_num[skewed_features])"
      ],
      "metadata": {
        "colab": {
          "base_uri": "https://localhost:8080/"
        },
        "id": "emexSc_wpVWz",
        "outputId": "4d754f57-4fb3-43f6-b96c-23bf5e50ec4f"
      },
      "execution_count": 56,
      "outputs": [
        {
          "output_type": "stream",
          "name": "stdout",
          "text": [
            "86 skewed numerical features to log transform\n"
          ]
        }
      ]
    },
    {
      "cell_type": "code",
      "source": [
        "skewed_features"
      ],
      "metadata": {
        "colab": {
          "base_uri": "https://localhost:8080/"
        },
        "id": "SW7BWzbnK0DU",
        "outputId": "39a9fe2b-9f51-4493-d746-e3fb15a55398"
      },
      "execution_count": 57,
      "outputs": [
        {
          "output_type": "execute_result",
          "data": {
            "text/plain": [
              "Index(['LotArea', 'Street', 'LotShape', 'Utilities', 'LandSlope',\n",
              "       'OverallCond', 'YearBuilt', 'MasVnrArea', 'ExterQual', 'ExterCond',\n",
              "       'BsmtQual', 'BsmtCond', 'BsmtExposure', 'BsmtFinSF1', 'BsmtFinType2',\n",
              "       'BsmtFinSF2', 'BsmtUnfSF', 'HeatingQC', '1stFlrSF', '2ndFlrSF',\n",
              "       'LowQualFinSF', 'GrLivArea', 'BsmtFullBath', 'BsmtHalfBath', 'HalfBath',\n",
              "       'KitchenAbvGr', 'TotRmsAbvGrd', 'Functional', 'Fireplaces',\n",
              "       'GarageYrBlt', 'GarageQual', 'GarageCond', 'PavedDrive', 'WoodDeckSF',\n",
              "       'OpenPorchSF', 'EnclosedPorch', '3SsnPorch', 'ScreenPorch', 'PoolArea',\n",
              "       'PoolQC', 'MiscVal', 'SimplOverallCond', 'SimplPoolQC',\n",
              "       'SimplGarageCond', 'SimplGarageQual', 'SimplFunctional',\n",
              "       'SimplHeatingQC', 'SimplBsmtFinType1', 'SimplBsmtFinType2',\n",
              "       'SimplBsmtCond', 'SimplExterCond', 'SimplExterQual', 'GarageGrade',\n",
              "       'ExterGrade', 'KitchenScore', 'FireplaceScore', 'PoolScore',\n",
              "       'SimplExterGrade', 'SimplPoolScore', 'SimplGarageScore',\n",
              "       'SimplFireplaceScore', 'AllSF', 'AllFlrsSF', 'AllPorchSF',\n",
              "       'BoughtOffPlan', 'OverallQual-s2', 'OverallQual-s3', 'AllSF-2',\n",
              "       'AllSF-3', 'AllFlrsSF-2', 'AllFlrsSF-3', 'GrLivArea-2', 'GrLivArea-3',\n",
              "       'ExterQual-2', 'ExterQual-3', 'ExterQual-Sq', 'GarageCars-2',\n",
              "       'GarageCars-3', 'GarageCars-Sq', 'TotalBath-2', 'TotalBath-3',\n",
              "       'KitchenQual-2', 'KitchenQual-3', 'GarageScore-2', 'GarageScore-3',\n",
              "       'GarageScore-Sq'],\n",
              "      dtype='object')"
            ]
          },
          "metadata": {},
          "execution_count": 57
        }
      ]
    },
    {
      "cell_type": "markdown",
      "source": [
        "From the features identified to be used in the DSS, OverallCond and YearBuilt  have been log transformed. This will also have to be applied to user input in the DSS."
      ],
      "metadata": {
        "id": "8QoVno9jNntw"
      }
    },
    {
      "cell_type": "code",
      "source": [
        "# Create dummy features for categorical values via one-hot encoding\n",
        "print(\"NAs for categorical features in train : \" + str(train_cat.isnull().values.sum()))\n",
        "train_cat = pd.get_dummies(train_cat)\n",
        "print(\"Remaining NAs for categorical features in train : \" + str(train_cat.isnull().values.sum()))"
      ],
      "metadata": {
        "colab": {
          "base_uri": "https://localhost:8080/"
        },
        "id": "ngwPtkzlpVry",
        "outputId": "5e924711-b334-4ed6-ebcd-3fc7f2031015"
      },
      "execution_count": 58,
      "outputs": [
        {
          "output_type": "stream",
          "name": "stdout",
          "text": [
            "NAs for categorical features in train : 1\n",
            "Remaining NAs for categorical features in train : 0\n"
          ]
        }
      ]
    },
    {
      "cell_type": "markdown",
      "source": [
        "## Modelling"
      ],
      "metadata": {
        "id": "HRQmAjt1pXx3"
      }
    },
    {
      "cell_type": "code",
      "source": [
        "# Join categorical and numerical features\n",
        "train = pd.concat([train_num, train_cat], axis = 1)\n",
        "print(\"New number of features : \" + str(train.shape[1]))\n",
        "\n",
        "# Partition the dataset in train + validation sets\n",
        "X_train, X_test, y_train, y_test = train_test_split(train, y, test_size = 0.3, random_state = 0)\n",
        "print(\"X_train : \" + str(X_train.shape))\n",
        "print(\"X_test : \" + str(X_test.shape))\n",
        "print(\"y_train : \" + str(y_train.shape))\n",
        "print(\"y_test : \" + str(y_test.shape))"
      ],
      "metadata": {
        "colab": {
          "base_uri": "https://localhost:8080/"
        },
        "id": "B1eZcnE7pZoW",
        "outputId": "0e82874b-7990-4c0e-900c-b432438ee5c0"
      },
      "execution_count": 59,
      "outputs": [
        {
          "output_type": "stream",
          "name": "stdout",
          "text": [
            "New number of features : 319\n",
            "X_train : (1019, 319)\n",
            "X_test : (437, 319)\n",
            "y_train : (1019,)\n",
            "y_test : (437,)\n"
          ]
        }
      ]
    },
    {
      "cell_type": "code",
      "source": [
        "# Standardize numerical features\n",
        "# A similar scaling process will be followed to values inputted into the DSS.\n",
        "stdSc = StandardScaler()\n",
        "X_train.loc[:, numerical_features] = stdSc.fit_transform(X_train.loc[:, numerical_features])\n",
        "X_test.loc[:, numerical_features] = stdSc.transform(X_test.loc[:, numerical_features])"
      ],
      "metadata": {
        "id": "McBgCW_6qPG6"
      },
      "execution_count": 60,
      "outputs": []
    },
    {
      "cell_type": "code",
      "source": [
        "# Define error measure for official scoring : RMSE\n",
        "scorer = make_scorer(mean_squared_error, greater_is_better = False)\n",
        "\n",
        "def rmse_cv_train(model):\n",
        "    rmse= np.sqrt(-cross_val_score(model, X_train, y_train, scoring = scorer, cv = 10))\n",
        "    return(rmse)\n",
        "\n",
        "def rmse_cv_test(model):\n",
        "    rmse= np.sqrt(-cross_val_score(model, X_test, y_test, scoring = scorer, cv = 10))\n",
        "    return(rmse)"
      ],
      "metadata": {
        "id": "C-HysrjGqQv-"
      },
      "execution_count": 61,
      "outputs": []
    },
    {
      "cell_type": "code",
      "source": [
        "# 4* ElasticNet\n",
        "elasticNet = ElasticNetCV(l1_ratio = [0.1, 0.3, 0.5, 0.6, 0.7, 0.8, 0.85, 0.9, 0.95, 1],\n",
        "                          alphas = [0.0001, 0.0003, 0.0006, 0.001, 0.003, 0.006, \n",
        "                                    0.01, 0.03, 0.06, 0.1, 0.3, 0.6, 1, 3, 6], \n",
        "                          max_iter = 50000, cv = 10)\n",
        "elasticNet.fit(X_train, y_train)\n",
        "alpha = elasticNet.alpha_\n",
        "ratio = elasticNet.l1_ratio_\n",
        "print(\"Best l1_ratio :\", ratio)\n",
        "print(\"Best alpha :\", alpha )\n",
        "\n",
        "print(\"Try again for more precision with l1_ratio centered around \" + str(ratio))\n",
        "elasticNet = ElasticNetCV(l1_ratio = [ratio * .85, ratio * .9, ratio * .95, ratio, ratio * 1.05, ratio * 1.1, ratio * 1.15],\n",
        "                          alphas = [0.0001, 0.0003, 0.0006, 0.001, 0.003, 0.006, 0.01, 0.03, 0.06, 0.1, 0.3, 0.6, 1, 3, 6], \n",
        "                          max_iter = 50000, cv = 10)\n",
        "elasticNet.fit(X_train, y_train)\n",
        "if (elasticNet.l1_ratio_ > 1):\n",
        "    elasticNet.l1_ratio_ = 1    \n",
        "alpha = elasticNet.alpha_\n",
        "ratio = elasticNet.l1_ratio_\n",
        "print(\"Best l1_ratio :\", ratio)\n",
        "print(\"Best alpha :\", alpha )\n",
        "\n",
        "print(\"Now try again for more precision on alpha, with l1_ratio fixed at \" + str(ratio) + \n",
        "      \" and alpha centered around \" + str(alpha))\n",
        "elasticNet = ElasticNetCV(l1_ratio = ratio,\n",
        "                          alphas = [alpha * .6, alpha * .65, alpha * .7, alpha * .75, alpha * .8, alpha * .85, alpha * .9, \n",
        "                                    alpha * .95, alpha, alpha * 1.05, alpha * 1.1, alpha * 1.15, alpha * 1.25, alpha * 1.3, \n",
        "                                    alpha * 1.35, alpha * 1.4], \n",
        "                          max_iter = 50000, cv = 10)\n",
        "elasticNet.fit(X_train, y_train)\n",
        "if (elasticNet.l1_ratio_ > 1):\n",
        "    elasticNet.l1_ratio_ = 1    \n",
        "alpha = elasticNet.alpha_\n",
        "ratio = elasticNet.l1_ratio_\n",
        "print(\"Best l1_ratio :\", ratio)\n",
        "print(\"Best alpha :\", alpha )\n",
        "\n",
        "print(\"ElasticNet RMSE on Training set :\", rmse_cv_train(elasticNet).mean())\n",
        "print(\"ElasticNet RMSE on Test set :\", rmse_cv_test(elasticNet).mean())\n",
        "y_train_ela = elasticNet.predict(X_train)\n",
        "y_test_ela = elasticNet.predict(X_test)\n",
        "\n",
        "# Plot residuals\n",
        "plt.scatter(y_train_ela, y_train_ela - y_train, c = \"blue\", marker = \"s\", label = \"Training data\")\n",
        "plt.scatter(y_test_ela, y_test_ela - y_test, c = \"lightgreen\", marker = \"s\", label = \"Validation data\")\n",
        "plt.title(\"Linear regression with ElasticNet regularization\")\n",
        "plt.xlabel(\"Predicted values\")\n",
        "plt.ylabel(\"Residuals\")\n",
        "plt.legend(loc = \"upper left\")\n",
        "plt.hlines(y = 0, xmin = 10.5, xmax = 13.5, color = \"red\")\n",
        "plt.show()\n",
        "\n",
        "# Plot predictions\n",
        "plt.scatter(y_train, y_train_ela, c = \"blue\", marker = \"s\", label = \"Training data\")\n",
        "plt.scatter(y_test, y_test_ela, c = \"lightgreen\", marker = \"s\", label = \"Validation data\")\n",
        "plt.title(\"Linear regression with ElasticNet regularization\")\n",
        "plt.xlabel(\"Predicted values\")\n",
        "plt.ylabel(\"Real values\")\n",
        "plt.legend(loc = \"upper left\")\n",
        "plt.plot([10.5, 13.5], [10.5, 13.5], c = \"red\")\n",
        "plt.show()\n",
        "\n",
        "# Plot important coefficients\n",
        "coefs = pd.Series(elasticNet.coef_, index = X_train.columns)\n",
        "print(\"ElasticNet picked \" + str(sum(coefs != 0)) + \" features and eliminated the other \" +  str(sum(coefs == 0)) + \" features\")\n",
        "imp_coefs = pd.concat([coefs.sort_values().head(10),\n",
        "                     coefs.sort_values().tail(10)])\n",
        "imp_coefs.plot(kind = \"barh\")\n",
        "plt.title(\"Coefficients in the ElasticNet Model\")\n",
        "plt.show()"
      ],
      "metadata": {
        "colab": {
          "base_uri": "https://localhost:8080/",
          "height": 1000
        },
        "id": "j_S4dNeVqTq4",
        "outputId": "e8aa0bfc-d4be-4ffc-eb70-868f5713367e"
      },
      "execution_count": 62,
      "outputs": [
        {
          "output_type": "stream",
          "name": "stderr",
          "text": [
            "/usr/local/lib/python3.7/dist-packages/sklearn/linear_model/_coordinate_descent.py:644: ConvergenceWarning: Objective did not converge. You might want to increase the number of iterations. Duality gap: 0.05083180939716314, tolerance: 0.01426910245430051\n",
            "  positive,\n",
            "/usr/local/lib/python3.7/dist-packages/sklearn/linear_model/_coordinate_descent.py:644: ConvergenceWarning: Objective did not converge. You might want to increase the number of iterations. Duality gap: 0.04478906048330611, tolerance: 0.01443932851481832\n",
            "  positive,\n"
          ]
        },
        {
          "output_type": "stream",
          "name": "stdout",
          "text": [
            "Best l1_ratio : 1.0\n",
            "Best alpha : 0.0006\n",
            "Try again for more precision with l1_ratio centered around 1.0\n",
            "Best l1_ratio : 1.0\n",
            "Best alpha : 0.0006\n",
            "Now try again for more precision on alpha, with l1_ratio fixed at 1.0 and alpha centered around 0.0006\n",
            "Best l1_ratio : 1.0\n",
            "Best alpha : 0.0006\n",
            "ElasticNet RMSE on Training set : 0.11411150837458064\n",
            "ElasticNet RMSE on Test set : 0.11583213221750703\n"
          ]
        },
        {
          "output_type": "display_data",
          "data": {
            "text/plain": [
              "<Figure size 432x288 with 1 Axes>"
            ],
            "image/png": "[encoded data removed]"
          },
          "metadata": {
            "needs_background": "light"
          }
        },
        {
          "output_type": "display_data",
          "data": {
            "text/plain": [
              "<Figure size 432x288 with 1 Axes>"
            ],
            "image/png": "[encoded data removed]"
          },
          "metadata": {
            "needs_background": "light"
          }
        },
        {
          "output_type": "stream",
          "name": "stdout",
          "text": [
            "ElasticNet picked 111 features and eliminated the other 208 features\n"
          ]
        },
        {
          "output_type": "display_data",
          "data": {
            "text/plain": [
              "<Figure size 432x288 with 1 Axes>"
            ],
            "image/png": "[encoded data removed]"
          },
          "metadata": {
            "needs_background": "light"
          }
        }
      ]
    },
    {
      "cell_type": "code",
      "source": [
        "# Save the model\n",
        "dump(elasticNet, 'elastic-net-model.joblib')"
      ],
      "metadata": {
        "colab": {
          "base_uri": "https://localhost:8080/"
        },
        "id": "G19dfI_mqhNg",
        "outputId": "831ec1b7-c212-45ef-9bf7-a32ef92cc1e7"
      },
      "execution_count": 63,
      "outputs": [
        {
          "output_type": "execute_result",
          "data": {
            "text/plain": [
              "['elastic-net-model.joblib']"
            ]
          },
          "metadata": {},
          "execution_count": 63
        }
      ]
    },
    {
      "cell_type": "markdown",
      "source": [
        "## Feature Importance\n",
        "\n",
        "After feature engineering and feature selection using ElasticNet, there are over 100 relevant features. Intuitively, it is possible that some features impact predictions more than others. Allowing users to tweak all features can both clutter the UI of the DSS and appear overwhelming to the user, decreasing the usability of the DSS. Therefore, the top 8 most impactful features (which may also be composed of multiple eliminated features) will be identified and users will have the opportunity to tweak them in the final DSS. The median and mode respectively will serve as default values for all other numeric and categorical features."
      ],
      "metadata": {
        "id": "uVMpysj3ErHG"
      }
    },
    {
      "cell_type": "code",
      "source": [
        "coefs.sort_values().tail(20)"
      ],
      "metadata": {
        "colab": {
          "base_uri": "https://localhost:8080/"
        },
        "id": "B2uxGGPMSOwx",
        "outputId": "40a14888-5b2e-4871-e8fb-0b2b0e6ae5a3"
      },
      "execution_count": 64,
      "outputs": [
        {
          "output_type": "execute_result",
          "data": {
            "text/plain": [
              "GarageScore            0.023\n",
              "Foundation_PConc       0.024\n",
              "SaleCondition_Normal   0.025\n",
              "MasVnrType_Stone       0.026\n",
              "OverallQual            0.027\n",
              "TotalBath              0.034\n",
              "Neighborhood_NridgHt   0.034\n",
              "KitchenQual            0.036\n",
              "Neighborhood_ClearCr   0.036\n",
              "MSZoning_FV            0.041\n",
              "LotArea                0.041\n",
              "Exterior1st_BrkFace    0.041\n",
              "Condition1_Norm        0.046\n",
              "YearBuilt              0.048\n",
              "OverallGrade           0.049\n",
              "Neighborhood_BrkSide   0.054\n",
              "Neighborhood_StoneBr   0.062\n",
              "GrLivArea-Sq           0.067\n",
              "AllSF-Sq               0.085\n",
              "Neighborhood_Crawfor   0.122\n",
              "dtype: float64"
            ]
          },
          "metadata": {},
          "execution_count": 64
        }
      ]
    },
    {
      "cell_type": "code",
      "source": [
        "coefs.sort_values().head(20)"
      ],
      "metadata": {
        "colab": {
          "base_uri": "https://localhost:8080/"
        },
        "id": "1thp4MJQeQDX",
        "outputId": "75e7eb3b-e890-451f-f1be-283b1d6ded87"
      },
      "execution_count": 65,
      "outputs": [
        {
          "output_type": "execute_result",
          "data": {
            "text/plain": [
              "MSZoning_C (all)        -0.224\n",
              "Condition1_Artery       -0.032\n",
              "Neighborhood_Edwards    -0.032\n",
              "SaleCondition_Abnorml   -0.032\n",
              "Neighborhood_Mitchel    -0.024\n",
              "SimplKitchenScore       -0.022\n",
              "Neighborhood_NWAmes     -0.021\n",
              "MSZoning_RM             -0.020\n",
              "Fence_GdWo              -0.019\n",
              "Exterior1st_Wd Sdng     -0.018\n",
              "CentralAir_N            -0.015\n",
              "Neighborhood_Gilbert    -0.015\n",
              "LandContour_Lvl         -0.013\n",
              "MSSubClass_SC30         -0.013\n",
              "Neighborhood_CollgCr    -0.013\n",
              "Neighborhood_SawyerW    -0.012\n",
              "SimplExterCond          -0.012\n",
              "MoSold_Nov              -0.011\n",
              "RoofStyle_Gable         -0.011\n",
              "SaleType_WD             -0.011\n",
              "dtype: float64"
            ]
          },
          "metadata": {},
          "execution_count": 65
        }
      ]
    },
    {
      "cell_type": "markdown",
      "source": [
        "In terms of magnitude, the top 8 most important numerical features are:\n",
        "\n",
        "*   MSZoning (categorical)\n",
        "*   Neighbourhood (categorical)\n",
        "*   AllSF-Sq (numerical)\n",
        "*   GrLivArea-Sq (numerical)\n",
        "*   OverallGrade (numerical)\n",
        "*   YearBuilt (numerical)\n",
        "*   Condition1 (categorical)\n",
        "*   Exterior1st (categorical)\n",
        "\n",
        "\n",
        "\n"
      ],
      "metadata": {
        "id": "EZZByFOgVNPR"
      }
    },
    {
      "cell_type": "code",
      "source": [
        "# Save the median of all the numeric features and mode of all the categorical features to use as default values for the DSS\n",
        "defaults = pd.concat([train_cat.mode(), train_num.median().to_frame().T], axis=1)\n",
        "dump(defaults, 'defaults.joblib')"
      ],
      "metadata": {
        "colab": {
          "base_uri": "https://localhost:8080/"
        },
        "id": "0SLZeCvxsKXz",
        "outputId": "c121571a-dbe1-4c32-e184-1d746b932ae7"
      },
      "execution_count": 66,
      "outputs": [
        {
          "output_type": "execute_result",
          "data": {
            "text/plain": [
              "['defaults.joblib']"
            ]
          },
          "metadata": {},
          "execution_count": 66
        }
      ]
    },
    {
      "cell_type": "code",
      "source": [
        "defaults = load('defaults.joblib')\n",
        "defaults"
      ],
      "metadata": {
        "colab": {
          "base_uri": "https://localhost:8080/",
          "height": 191
        },
        "id": "XMulJ_ZJ6CMZ",
        "outputId": "9389147a-622f-4aef-a0e1-a7dc0c10b688"
      },
      "execution_count": 67,
      "outputs": [
        {
          "output_type": "execute_result",
          "data": {
            "text/plain": [
              "   MSSubClass_SC120  MSSubClass_SC160  MSSubClass_SC180  MSSubClass_SC190  \\\n",
              "0                 0                 0                 0                 0   \n",
              "\n",
              "   MSSubClass_SC20  MSSubClass_SC30  MSSubClass_SC40  MSSubClass_SC45  \\\n",
              "0                0                0                0                0   \n",
              "\n",
              "   MSSubClass_SC50  MSSubClass_SC60  ...  GarageCars-Sq  TotalBath-2  \\\n",
              "0                0                0  ...          0.881        1.609   \n",
              "\n",
              "   TotalBath-3  TotalBath-Sq  KitchenQual-2  KitchenQual-3  KitchenQual-Sq  \\\n",
              "0        2.197         1.414          2.303          3.332           1.732   \n",
              "\n",
              "   GarageScore-2  GarageScore-3  GarageScore-Sq  \n",
              "0         14.536         21.805           3.660  \n",
              "\n",
              "[1 rows x 319 columns]"
            ],
            "text/html": [
              "\n",
              "  <div id=\"df-486dc5c4-22ba-4359-86f0-0ddd71a9b232\">\n",
              "    <div class=\"colab-df-container\">\n",
              "      <div>\n",
              "<style scoped>\n",
              "    .dataframe tbody tr th:only-of-type {\n",
              "        vertical-align: middle;\n",
              "    }\n",
              "\n",
              "    .dataframe tbody tr th {\n",
              "        vertical-align: top;\n",
              "    }\n",
              "\n",
              "    .dataframe thead th {\n",
              "        text-align: right;\n",
              "    }\n",
              "</style>\n",
              "<table border=\"1\" class=\"dataframe\">\n",
              "  <thead>\n",
              "    <tr style=\"text-align: right;\">\n",
              "      <th></th>\n",
              "      <th>MSSubClass_SC120</th>\n",
              "      <th>MSSubClass_SC160</th>\n",
              "      <th>MSSubClass_SC180</th>\n",
              "      <th>MSSubClass_SC190</th>\n",
              "      <th>MSSubClass_SC20</th>\n",
              "      <th>MSSubClass_SC30</th>\n",
              "      <th>MSSubClass_SC40</th>\n",
              "      <th>MSSubClass_SC45</th>\n",
              "      <th>MSSubClass_SC50</th>\n",
              "      <th>MSSubClass_SC60</th>\n",
              "      <th>...</th>\n",
              "      <th>GarageCars-Sq</th>\n",
              "      <th>TotalBath-2</th>\n",
              "      <th>TotalBath-3</th>\n",
              "      <th>TotalBath-Sq</th>\n",
              "      <th>KitchenQual-2</th>\n",
              "      <th>KitchenQual-3</th>\n",
              "      <th>KitchenQual-Sq</th>\n",
              "      <th>GarageScore-2</th>\n",
              "      <th>GarageScore-3</th>\n",
              "      <th>GarageScore-Sq</th>\n",
              "    </tr>\n",
              "  </thead>\n",
              "  <tbody>\n",
              "    <tr>\n",
              "      <th>0</th>\n",
              "      <td>0</td>\n",
              "      <td>0</td>\n",
              "      <td>0</td>\n",
              "      <td>0</td>\n",
              "      <td>0</td>\n",
              "      <td>0</td>\n",
              "      <td>0</td>\n",
              "      <td>0</td>\n",
              "      <td>0</td>\n",
              "      <td>0</td>\n",
              "      <td>...</td>\n",
              "      <td>0.881</td>\n",
              "      <td>1.609</td>\n",
              "      <td>2.197</td>\n",
              "      <td>1.414</td>\n",
              "      <td>2.303</td>\n",
              "      <td>3.332</td>\n",
              "      <td>1.732</td>\n",
              "      <td>14.536</td>\n",
              "      <td>21.805</td>\n",
              "      <td>3.660</td>\n",
              "    </tr>\n",
              "  </tbody>\n",
              "</table>\n",
              "<p>1 rows × 319 columns</p>\n",
              "</div>\n",
              "      <button class=\"colab-df-convert\" onclick=\"convertToInteractive('df-486dc5c4-22ba-4359-86f0-0ddd71a9b232')\"\n",
              "              title=\"Convert this dataframe to an interactive table.\"\n",
              "              style=\"display:none;\">\n",
              "        \n",
              "  <svg xmlns=\"http://www.w3.org/2000/svg\" height=\"24px\"viewBox=\"0 0 24 24\"\n",
              "       width=\"24px\">\n",
              "    <path d=\"M0 0h24v24H0V0z\" fill=\"none\"/>\n",
              "    <path d=\"M18.56 5.44l.94 2.06.94-2.06 2.06-.94-2.06-.94-.94-2.06-.94 2.06-2.06.94zm-11 1L8.5 8.5l.94-2.06 2.06-.94-2.06-.94L8.5 2.5l-.94 2.06-2.06.94zm10 10l.94 2.06.94-2.06 2.06-.94-2.06-.94-.94-2.06-.94 2.06-2.06.94z\"/><path d=\"M17.41 7.96l-1.37-1.37c-.4-.4-.92-.59-1.43-.59-.52 0-1.04.2-1.43.59L10.3 9.45l-7.72 7.72c-.78.78-.78 2.05 0 2.83L4 21.41c.39.39.9.59 1.41.59.51 0 1.02-.2 1.41-.59l7.78-7.78 2.81-2.81c.8-.78.8-2.07 0-2.86zM5.41 20L4 18.59l7.72-7.72 1.47 1.35L5.41 20z\"/>\n",
              "  </svg>\n",
              "      </button>\n",
              "      \n",
              "  <style>\n",
              "    .colab-df-container {\n",
              "      display:flex;\n",
              "      flex-wrap:wrap;\n",
              "      gap: 12px;\n",
              "    }\n",
              "\n",
              "    .colab-df-convert {\n",
              "      background-color: #E8F0FE;\n",
              "      border: none;\n",
              "      border-radius: 50%;\n",
              "      cursor: pointer;\n",
              "      display: none;\n",
              "      fill: #1967D2;\n",
              "      height: 32px;\n",
              "      padding: 0 0 0 0;\n",
              "      width: 32px;\n",
              "    }\n",
              "\n",
              "    .colab-df-convert:hover {\n",
              "      background-color: #E2EBFA;\n",
              "      box-shadow: 0px 1px 2px rgba(60, 64, 67, 0.3), 0px 1px 3px 1px rgba(60, 64, 67, 0.15);\n",
              "      fill: #174EA6;\n",
              "    }\n",
              "\n",
              "    [theme=dark] .colab-df-convert {\n",
              "      background-color: #3B4455;\n",
              "      fill: #D2E3FC;\n",
              "    }\n",
              "\n",
              "    [theme=dark] .colab-df-convert:hover {\n",
              "      background-color: #434B5C;\n",
              "      box-shadow: 0px 1px 3px 1px rgba(0, 0, 0, 0.15);\n",
              "      filter: drop-shadow(0px 1px 2px rgba(0, 0, 0, 0.3));\n",
              "      fill: #FFFFFF;\n",
              "    }\n",
              "  </style>\n",
              "\n",
              "      <script>\n",
              "        const buttonEl =\n",
              "          document.querySelector('#df-486dc5c4-22ba-4359-86f0-0ddd71a9b232 button.colab-df-convert');\n",
              "        buttonEl.style.display =\n",
              "          google.colab.kernel.accessAllowed ? 'block' : 'none';\n",
              "\n",
              "        async function convertToInteractive(key) {\n",
              "          const element = document.querySelector('#df-486dc5c4-22ba-4359-86f0-0ddd71a9b232');\n",
              "          const dataTable =\n",
              "            await google.colab.kernel.invokeFunction('convertToInteractive',\n",
              "                                                     [key], {});\n",
              "          if (!dataTable) return;\n",
              "\n",
              "          const docLinkHtml = 'Like what you see? Visit the ' +\n",
              "            '<a target=\"_blank\" href=https://colab.research.google.com/notebooks/data_table.ipynb>data table notebook</a>'\n",
              "            + ' to learn more about interactive tables.';\n",
              "          element.innerHTML = '';\n",
              "          dataTable['output_type'] = 'display_data';\n",
              "          await google.colab.output.renderOutput(dataTable, element);\n",
              "          const docLink = document.createElement('div');\n",
              "          docLink.innerHTML = docLinkHtml;\n",
              "          element.appendChild(docLink);\n",
              "        }\n",
              "      </script>\n",
              "    </div>\n",
              "  </div>\n",
              "  "
            ]
          },
          "metadata": {},
          "execution_count": 67
        }
      ]
    }
  ]
}